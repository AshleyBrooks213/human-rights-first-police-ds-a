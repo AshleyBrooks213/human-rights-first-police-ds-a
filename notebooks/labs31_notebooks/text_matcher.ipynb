{
 "cells": [
  {
   "cell_type": "code",
   "execution_count": 1,
   "metadata": {},
   "outputs": [],
   "source": [
    "from sklearn.feature_extraction.text import TfidfVectorizer\n",
    "from sklearn.neighbors import NearestNeighbors\n",
    "import spacy\n",
    "import en_core_web_sm\n",
    "import pandas as pd"
   ]
  },
  {
   "cell_type": "code",
   "execution_count": 4,
   "metadata": {},
   "outputs": [],
   "source": [
    "ranked_reports = {\n",
    "    \"Rank 1 - Police Presence\": [\n",
    "        \"policeman, policewoman, law enforcement\",\n",
    "        \"police officer, cop, five-o, fuzz, DHS\",\n",
    "    ],\n",
    "    \"Rank 2 - Empty-hand\": [\n",
    "        \"policeman, policewoman, law enforcement\",\n",
    "        \"police officer, cop, five-o, fuzz, DHS\",\n",
    "        \"pushed and shoved with shields\",\n",
    "        \"grabs, holds and joint locks\",\n",
    "        \"punch and kick\",\n",
    "    ],\n",
    "    \"Rank 3 - Blunt Force\": [\n",
    "        \"policeman, policewoman, law enforcement\",\n",
    "        \"police officer, cop, five-o, fuzz, DHS\",\n",
    "        \"rubber bullets\",\n",
    "        \"riot rounds\",\n",
    "        \"batons\",\n",
    "    ],\n",
    "    \"Rank 4 - Chemical & Electric\": [\n",
    "        \"policeman, policewoman, law enforcement\",\n",
    "        \"police officer, cop, five-o, fuzz, DHS\",\n",
    "        \"tear gas\",\n",
    "        \"pepper spray\",\n",
    "        \"flashbangs, stun grenade\",\n",
    "        \"chemical sprays\",\n",
    "        \"Conducted energy devices, CED or tazor\",\n",
    "    ],\n",
    "    \"Rank 5 - Lethal Force\": [\n",
    "        \"policeman, policewoman, law enforcement\",\n",
    "        \"police officer, cop, five-o, fuzz, DHS\",\n",
    "        \"shoot and kill\",\n",
    "        \"open fire\",\n",
    "        \"deadly force\",\n",
    "        \"fatal\",\n",
    "        \"dies\",\n",
    "    ],\n",
    "}"
   ]
  },
  {
   "cell_type": "code",
   "execution_count": 14,
   "metadata": {},
   "outputs": [],
   "source": [
    "class TextMatcher:\n",
    "    \"\"\" Generic NLP Text Matching Model \"\"\"\n",
    "\n",
    "    class Tokenizer:\n",
    "        \"\"\" Standard SpaCy Tokenizer \"\"\"\n",
    "        nlp = en_core_web_sm.load()\n",
    "\n",
    "        def __call__(self, text: str) -> list:\n",
    "            return [\n",
    "                token.lemma_ for token in self.nlp(text)\n",
    "                if not token.is_stop and not token.is_punct\n",
    "            ]\n",
    "\n",
    "    def __init__(self, train_data: dict, ngram_range=(1, 3), max_features=8000):\n",
    "        \"\"\" Model training on live data at init \"\"\"\n",
    "        self.lookup = {k: ' '.join(v) for k, v in train_data.items()}\n",
    "        self.name_index = list(self.lookup.keys())\n",
    "        self.tfidf = TfidfVectorizer(\n",
    "            ngram_range=ngram_range,\n",
    "            tokenizer=self.Tokenizer(),\n",
    "            max_features=max_features,\n",
    "        )\n",
    "        self.knn = NearestNeighbors(\n",
    "            n_neighbors=1,\n",
    "            n_jobs=-1,\n",
    "        ).fit(self.tfidf.fit_transform(self.lookup.values()).todense())\n",
    "        self.baseline, _ = self._worker('')\n",
    "\n",
    "    def _worker(self, user_input: str):\n",
    "        \"\"\" Prediction worker method - internal only \"\"\"\n",
    "        vec = self.tfidf.transform([user_input]).todense()\n",
    "        return (itm[0][0] for itm in self.knn.kneighbors(vec))\n",
    "\n",
    "    def __call__(self, user_input: str) -> str:\n",
    "        \"\"\" Callable object for making predictions \"\"\"\n",
    "        dist, idx = self._worker(user_input)\n",
    "        if dist != self.baseline:\n",
    "            return self.name_index[int(idx)]\n",
    "        else:\n",
    "            return 'Rank 0 - No Police Presence'"
   ]
  },
  {
   "cell_type": "code",
   "execution_count": 15,
   "metadata": {},
   "outputs": [],
   "source": [
    "textmatcher = TextMatcher(ranked_reports)"
   ]
  },
  {
   "cell_type": "code",
   "execution_count": 18,
   "metadata": {},
   "outputs": [],
   "source": [
    "df = pd.read_csv(\"combined_tweets.csv\")"
   ]
  },
  {
   "cell_type": "code",
   "execution_count": 20,
   "metadata": {},
   "outputs": [
    {
     "data": {
      "text/html": [
       "<div>\n",
       "<style scoped>\n",
       "    .dataframe tbody tr th:only-of-type {\n",
       "        vertical-align: middle;\n",
       "    }\n",
       "\n",
       "    .dataframe tbody tr th {\n",
       "        vertical-align: top;\n",
       "    }\n",
       "\n",
       "    .dataframe thead th {\n",
       "        text-align: right;\n",
       "    }\n",
       "</style>\n",
       "<table border=\"1\" class=\"dataframe\">\n",
       "  <thead>\n",
       "    <tr style=\"text-align: right;\">\n",
       "      <th></th>\n",
       "      <th>ids</th>\n",
       "      <th>text</th>\n",
       "      <th>reddit</th>\n",
       "    </tr>\n",
       "  </thead>\n",
       "  <tbody>\n",
       "    <tr>\n",
       "      <th>0</th>\n",
       "      <td>1266136557871869952</td>\n",
       "      <td>Police in NYC made several arrests during a pr...</td>\n",
       "      <td>1</td>\n",
       "    </tr>\n",
       "    <tr>\n",
       "      <th>1</th>\n",
       "      <td>1266159669262893057</td>\n",
       "      <td>Calls for justice for George Floyd. Protesters...</td>\n",
       "      <td>1</td>\n",
       "    </tr>\n",
       "    <tr>\n",
       "      <th>2</th>\n",
       "      <td>1266555286678048770</td>\n",
       "      <td>NYPD just casually slamming a dude with a car ...</td>\n",
       "      <td>1</td>\n",
       "    </tr>\n",
       "    <tr>\n",
       "      <th>3</th>\n",
       "      <td>1266540710188195843</td>\n",
       "      <td>Update: Got her permission with a fuck yeah. T...</td>\n",
       "      <td>1</td>\n",
       "    </tr>\n",
       "    <tr>\n",
       "      <th>4</th>\n",
       "      <td>1266529475757510656</td>\n",
       "      <td>NYPD officer just called a female protester a ...</td>\n",
       "      <td>1</td>\n",
       "    </tr>\n",
       "  </tbody>\n",
       "</table>\n",
       "</div>"
      ],
      "text/plain": [
       "                   ids                                               text  \\\n",
       "0  1266136557871869952  Police in NYC made several arrests during a pr...   \n",
       "1  1266159669262893057  Calls for justice for George Floyd. Protesters...   \n",
       "2  1266555286678048770  NYPD just casually slamming a dude with a car ...   \n",
       "3  1266540710188195843  Update: Got her permission with a fuck yeah. T...   \n",
       "4  1266529475757510656  NYPD officer just called a female protester a ...   \n",
       "\n",
       "   reddit  \n",
       "0       1  \n",
       "1       1  \n",
       "2       1  \n",
       "3       1  \n",
       "4       1  "
      ]
     },
     "execution_count": 20,
     "metadata": {},
     "output_type": "execute_result"
    }
   ],
   "source": [
    "df.head()"
   ]
  },
  {
   "cell_type": "code",
   "execution_count": 28,
   "metadata": {},
   "outputs": [
    {
     "name": "stdout",
     "output_type": "stream",
     "text": [
      "Rank 1 - Police Presence NYPD officer just called a female protester a “stupid fucking bitch” and threw her to the ground\n"
     ]
    }
   ],
   "source": [
    "text = df['text'][4]\n",
    "\n",
    "print(textmatcher(text), text)"
   ]
  },
  {
   "cell_type": "code",
   "execution_count": null,
   "metadata": {},
   "outputs": [],
   "source": []
  }
 ],
 "metadata": {
  "kernelspec": {
   "display_name": "Python 3",
   "language": "python",
   "name": "python3"
  },
  "language_info": {
   "codemirror_mode": {
    "name": "ipython",
    "version": 3
   },
   "file_extension": ".py",
   "mimetype": "text/x-python",
   "name": "python",
   "nbconvert_exporter": "python",
   "pygments_lexer": "ipython3",
   "version": "3.9.0"
  }
 },
 "nbformat": 4,
 "nbformat_minor": 4
}
